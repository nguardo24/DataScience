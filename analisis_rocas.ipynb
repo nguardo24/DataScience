{
 "cells": [
  {
   "cell_type": "code",
   "execution_count": 4,
   "metadata": {},
   "outputs": [],
   "source": [
    "# Import the needed libraries\n",
    "\n",
    "import pandas as pd\n",
    "import pyrolite"
   ]
  },
  {
   "cell_type": "code",
   "execution_count": 3,
   "metadata": {},
   "outputs": [
    {
     "data": {
      "text/html": [
       "<div>\n",
       "<style scoped>\n",
       "    .dataframe tbody tr th:only-of-type {\n",
       "        vertical-align: middle;\n",
       "    }\n",
       "\n",
       "    .dataframe tbody tr th {\n",
       "        vertical-align: top;\n",
       "    }\n",
       "\n",
       "    .dataframe thead th {\n",
       "        text-align: right;\n",
       "    }\n",
       "</style>\n",
       "<table border=\"1\" class=\"dataframe\">\n",
       "  <thead>\n",
       "    <tr style=\"text-align: right;\">\n",
       "      <th></th>\n",
       "      <th>Nombre</th>\n",
       "      <th>SiO2</th>\n",
       "      <th>Al2O3</th>\n",
       "      <th>FeOT</th>\n",
       "      <th>CaO</th>\n",
       "      <th>MgO</th>\n",
       "      <th>Na2O</th>\n",
       "      <th>K2O</th>\n",
       "      <th>MnO</th>\n",
       "      <th>TiO2</th>\n",
       "    </tr>\n",
       "  </thead>\n",
       "  <tbody>\n",
       "    <tr>\n",
       "      <th>0</th>\n",
       "      <td>Peridotita</td>\n",
       "      <td>45.16</td>\n",
       "      <td>1.56</td>\n",
       "      <td>8.79</td>\n",
       "      <td>0.97</td>\n",
       "      <td>44.47</td>\n",
       "      <td>0.10</td>\n",
       "      <td>0.02</td>\n",
       "      <td>0.13</td>\n",
       "      <td>0.10</td>\n",
       "    </tr>\n",
       "    <tr>\n",
       "      <th>1</th>\n",
       "      <td>Peridotita</td>\n",
       "      <td>45.97</td>\n",
       "      <td>2.94</td>\n",
       "      <td>8.90</td>\n",
       "      <td>2.83</td>\n",
       "      <td>39.89</td>\n",
       "      <td>0.17</td>\n",
       "      <td>0.04</td>\n",
       "      <td>0.13</td>\n",
       "      <td>0.19</td>\n",
       "    </tr>\n",
       "    <tr>\n",
       "      <th>2</th>\n",
       "      <td>Peridotita</td>\n",
       "      <td>46.91</td>\n",
       "      <td>3.62</td>\n",
       "      <td>8.23</td>\n",
       "      <td>2.73</td>\n",
       "      <td>39.55</td>\n",
       "      <td>0.14</td>\n",
       "      <td>0.01</td>\n",
       "      <td>0.13</td>\n",
       "      <td>0.11</td>\n",
       "    </tr>\n",
       "    <tr>\n",
       "      <th>3</th>\n",
       "      <td>Peridotita</td>\n",
       "      <td>44.96</td>\n",
       "      <td>2.01</td>\n",
       "      <td>9.04</td>\n",
       "      <td>1.10</td>\n",
       "      <td>43.39</td>\n",
       "      <td>0.10</td>\n",
       "      <td>0.02</td>\n",
       "      <td>0.13</td>\n",
       "      <td>0.11</td>\n",
       "    </tr>\n",
       "    <tr>\n",
       "      <th>4</th>\n",
       "      <td>Peridotita</td>\n",
       "      <td>45.24</td>\n",
       "      <td>0.73</td>\n",
       "      <td>7.92</td>\n",
       "      <td>0.42</td>\n",
       "      <td>46.79</td>\n",
       "      <td>0.01</td>\n",
       "      <td>0.01</td>\n",
       "      <td>0.11</td>\n",
       "      <td>0.03</td>\n",
       "    </tr>\n",
       "  </tbody>\n",
       "</table>\n",
       "</div>"
      ],
      "text/plain": [
       "       Nombre   SiO2  Al2O3  FeOT   CaO    MgO  Na2O   K2O   MnO  TiO2\n",
       "0  Peridotita  45.16   1.56  8.79  0.97  44.47  0.10  0.02  0.13  0.10\n",
       "1  Peridotita  45.97   2.94  8.90  2.83  39.89  0.17  0.04  0.13  0.19\n",
       "2  Peridotita  46.91   3.62  8.23  2.73  39.55  0.14  0.01  0.13  0.11\n",
       "3  Peridotita  44.96   2.01  9.04  1.10  43.39  0.10  0.02  0.13  0.11\n",
       "4  Peridotita  45.24   0.73  7.92  0.42  46.79  0.01  0.01  0.11  0.03"
      ]
     },
     "execution_count": 3,
     "metadata": {},
     "output_type": "execute_result"
    }
   ],
   "source": [
    "# Read the csv file as a pandas.DataFrame and show the first five rows\n",
    "df_rocas = pd.read_csv(\"files/rocas.csv\")\n",
    "\n",
    "df_rocas.head()"
   ]
  },
  {
   "cell_type": "code",
   "execution_count": 5,
   "metadata": {},
   "outputs": [
    {
     "name": "stdout",
     "output_type": "stream",
     "text": [
      "The data set has 10537 rows and 10 columns\n"
     ]
    }
   ],
   "source": [
    "print(f\"The data set has {df_rocas.shape[0]} rows and {df_rocas.shape[1]} columns\")"
   ]
  },
  {
   "cell_type": "code",
   "execution_count": 14,
   "metadata": {},
   "outputs": [
    {
     "name": "stdout",
     "output_type": "stream",
     "text": [
      "There are 3 different rock types within the table and these are:\n",
      "['Peridotita' 'Granodiorita' 'Andesita']\n",
      "The quantities of each type are:\n",
      "\n"
     ]
    },
    {
     "data": {
      "text/html": [
       "<div>\n",
       "<style scoped>\n",
       "    .dataframe tbody tr th:only-of-type {\n",
       "        vertical-align: middle;\n",
       "    }\n",
       "\n",
       "    .dataframe tbody tr th {\n",
       "        vertical-align: top;\n",
       "    }\n",
       "\n",
       "    .dataframe thead th {\n",
       "        text-align: right;\n",
       "    }\n",
       "</style>\n",
       "<table border=\"1\" class=\"dataframe\">\n",
       "  <thead>\n",
       "    <tr style=\"text-align: right;\">\n",
       "      <th></th>\n",
       "      <th>Tipo de roca</th>\n",
       "      <th>Cantidad</th>\n",
       "    </tr>\n",
       "  </thead>\n",
       "  <tbody>\n",
       "    <tr>\n",
       "      <th>0</th>\n",
       "      <td>Andesita</td>\n",
       "      <td>5973</td>\n",
       "    </tr>\n",
       "    <tr>\n",
       "      <th>1</th>\n",
       "      <td>Granodiorita</td>\n",
       "      <td>2993</td>\n",
       "    </tr>\n",
       "    <tr>\n",
       "      <th>2</th>\n",
       "      <td>Peridotita</td>\n",
       "      <td>1571</td>\n",
       "    </tr>\n",
       "  </tbody>\n",
       "</table>\n",
       "</div>"
      ],
      "text/plain": [
       "   Tipo de roca  Cantidad\n",
       "0      Andesita      5973\n",
       "1  Granodiorita      2993\n",
       "2    Peridotita      1571"
      ]
     },
     "execution_count": 14,
     "metadata": {},
     "output_type": "execute_result"
    }
   ],
   "source": [
    "print(f\"There are {df_rocas['Nombre'].nunique()} different rock types within the table and these are:\\n{df_rocas['Nombre'].unique()}\")\n",
    "\n",
    "print(\"The quantities of each type are:\\n\")\n",
    "\n",
    "df_cantidad_rocas = df_rocas.groupby(\"Nombre\").agg({\"Nombre\":\"count\"}).reset_index(names=\"Tipo de roca\").rename(columns={\"Nombre\": \"Cantidad\"})\n",
    "\n",
    "df_cantidad_rocas"
   ]
  },
  {
   "cell_type": "markdown",
   "metadata": {},
   "source": [
    "We can see that Andesita is the most common rock type in the table with 5973 records."
   ]
  },
  {
   "cell_type": "markdown",
   "metadata": {},
   "source": [
    "Now that we know how many types of rocks are in the table, we can obtain the mean composition for each one "
   ]
  },
  {
   "cell_type": "code",
   "execution_count": 15,
   "metadata": {},
   "outputs": [
    {
     "data": {
      "text/plain": [
       "Index(['Nombre', 'SiO2', 'Al2O3', 'FeOT', 'CaO', 'MgO', 'Na2O', 'K2O', 'MnO',\n",
       "       'TiO2'],\n",
       "      dtype='object')"
      ]
     },
     "execution_count": 15,
     "metadata": {},
     "output_type": "execute_result"
    }
   ],
   "source": [
    "df_rocas.columns"
   ]
  },
  {
   "cell_type": "code",
   "execution_count": 16,
   "metadata": {},
   "outputs": [
    {
     "name": "stdout",
     "output_type": "stream",
     "text": [
      "The mean composition of each rock type is:\n",
      "\n"
     ]
    },
    {
     "data": {
      "text/html": [
       "<div>\n",
       "<style scoped>\n",
       "    .dataframe tbody tr th:only-of-type {\n",
       "        vertical-align: middle;\n",
       "    }\n",
       "\n",
       "    .dataframe tbody tr th {\n",
       "        vertical-align: top;\n",
       "    }\n",
       "\n",
       "    .dataframe thead th {\n",
       "        text-align: right;\n",
       "    }\n",
       "</style>\n",
       "<table border=\"1\" class=\"dataframe\">\n",
       "  <thead>\n",
       "    <tr style=\"text-align: right;\">\n",
       "      <th></th>\n",
       "      <th>Nombre</th>\n",
       "      <th>SiO2</th>\n",
       "      <th>Al2O3</th>\n",
       "      <th>FeOT</th>\n",
       "      <th>CaO</th>\n",
       "      <th>MgO</th>\n",
       "      <th>Na2O</th>\n",
       "      <th>K2O</th>\n",
       "      <th>MnO</th>\n",
       "      <th>TiO2</th>\n",
       "    </tr>\n",
       "  </thead>\n",
       "  <tbody>\n",
       "    <tr>\n",
       "      <th>0</th>\n",
       "      <td>Andesita</td>\n",
       "      <td>57.270542</td>\n",
       "      <td>16.658308</td>\n",
       "      <td>7.139491</td>\n",
       "      <td>6.864083</td>\n",
       "      <td>3.826860</td>\n",
       "      <td>3.493394</td>\n",
       "      <td>1.715592</td>\n",
       "      <td>0.143708</td>\n",
       "      <td>0.908540</td>\n",
       "    </tr>\n",
       "    <tr>\n",
       "      <th>1</th>\n",
       "      <td>Granodiorita</td>\n",
       "      <td>66.478101</td>\n",
       "      <td>15.494279</td>\n",
       "      <td>3.736919</td>\n",
       "      <td>3.448311</td>\n",
       "      <td>1.618093</td>\n",
       "      <td>3.725909</td>\n",
       "      <td>2.983752</td>\n",
       "      <td>0.078362</td>\n",
       "      <td>0.517362</td>\n",
       "    </tr>\n",
       "    <tr>\n",
       "      <th>2</th>\n",
       "      <td>Peridotita</td>\n",
       "      <td>43.415374</td>\n",
       "      <td>2.630939</td>\n",
       "      <td>8.564758</td>\n",
       "      <td>2.391172</td>\n",
       "      <td>39.636627</td>\n",
       "      <td>0.226822</td>\n",
       "      <td>0.117431</td>\n",
       "      <td>0.138131</td>\n",
       "      <td>0.186882</td>\n",
       "    </tr>\n",
       "  </tbody>\n",
       "</table>\n",
       "</div>"
      ],
      "text/plain": [
       "         Nombre       SiO2      Al2O3      FeOT       CaO        MgO  \\\n",
       "0      Andesita  57.270542  16.658308  7.139491  6.864083   3.826860   \n",
       "1  Granodiorita  66.478101  15.494279  3.736919  3.448311   1.618093   \n",
       "2    Peridotita  43.415374   2.630939  8.564758  2.391172  39.636627   \n",
       "\n",
       "       Na2O       K2O       MnO      TiO2  \n",
       "0  3.493394  1.715592  0.143708  0.908540  \n",
       "1  3.725909  2.983752  0.078362  0.517362  \n",
       "2  0.226822  0.117431  0.138131  0.186882  "
      ]
     },
     "execution_count": 16,
     "metadata": {},
     "output_type": "execute_result"
    }
   ],
   "source": [
    "df_mean_composition = df_rocas.groupby(\"Nombre\", as_index=False).agg({\n",
    "    \"SiO2\": \"mean\", \n",
    "    \"Al2O3\": \"mean\", \n",
    "    \"FeOT\": \"mean\", \n",
    "    \"CaO\": \"mean\", \n",
    "    \"MgO\": \"mean\", \n",
    "    \"Na2O\": \"mean\",\n",
    "    \"K2O\": \"mean\",\n",
    "    \"MnO\": \"mean\",\n",
    "    \"TiO2\": \"mean\"\n",
    "})\n",
    "\n",
    "print(\"The mean composition of each rock type is:\\n\")\n",
    "\n",
    "df_mean_composition"
   ]
  },
  {
   "cell_type": "markdown",
   "metadata": {},
   "source": [
    "Now, we can obtain the range of values for major componentes present in the table for each type"
   ]
  },
  {
   "cell_type": "code",
   "execution_count": 18,
   "metadata": {},
   "outputs": [
    {
     "name": "stdout",
     "output_type": "stream",
     "text": [
      "For Peridotita, these are the ranges for each major component:\n",
      "\n",
      "SiO2: 23.49 - 58.16\n",
      "Al2O3: 0.01 - 25.4\n",
      "CaO: 0.0 - 25.265\n",
      "MgO: 0.71 - 53.1\n",
      "Na2O: 0.0 - 7.3\n",
      "K2O: 0.0 - 5.1\n",
      "-------------------------------------------------------\n",
      "For Granodiorita, these are the ranges for each major component:\n",
      "\n",
      "SiO2: 35.3 - 79.9\n",
      "Al2O3: 5.4 - 22.71\n",
      "CaO: 0.0 - 22.91\n",
      "MgO: 0.0 - 16.0\n",
      "Na2O: 0.04 - 7.9\n",
      "K2O: 0.01 - 8.13\n",
      "-------------------------------------------------------\n",
      "For Andesita, these are the ranges for each major component:\n",
      "\n",
      "SiO2: 40.448 - 84.91\n",
      "Al2O3: 2.53 - 25.47\n",
      "CaO: 0.07 - 19.0\n",
      "MgO: 0.01 - 17.6\n",
      "Na2O: 0.0 - 10.05\n",
      "K2O: 0.0 - 9.46\n",
      "-------------------------------------------------------\n"
     ]
    }
   ],
   "source": [
    "major_components = [\"SiO2\", \"Al2O3\", \"CaO\", \"MgO\", \"Na2O\", \"K2O\"]\n",
    "for rock_type in df_rocas[\"Nombre\"].unique():\n",
    "    \n",
    "    df_type = df_rocas.loc[df_rocas[\"Nombre\"] == rock_type].copy()\n",
    "    \n",
    "    print(f\"For {rock_type}, these are the ranges for each major component:\\n\")\n",
    "    \n",
    "    for component in major_components:\n",
    "        print(f\"{component}: {df_type[component].min()} - {df_type[component].max()}\")\n",
    "    print(\"-------------------------------------------------------\")\n",
    "    "
   ]
  }
 ],
 "metadata": {
  "kernelspec": {
   "display_name": "Python 3",
   "language": "python",
   "name": "python3"
  },
  "language_info": {
   "codemirror_mode": {
    "name": "ipython",
    "version": 3
   },
   "file_extension": ".py",
   "mimetype": "text/x-python",
   "name": "python",
   "nbconvert_exporter": "python",
   "pygments_lexer": "ipython3",
   "version": "3.10.12"
  }
 },
 "nbformat": 4,
 "nbformat_minor": 2
}
