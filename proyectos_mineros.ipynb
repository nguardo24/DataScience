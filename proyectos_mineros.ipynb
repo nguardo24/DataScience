{
 "cells": [
  {
   "cell_type": "code",
   "execution_count": 1,
   "metadata": {},
   "outputs": [
    {
     "name": "stdout",
     "output_type": "stream",
     "text": [
      "There are 82 mining projects in Argentina\n",
      "The original dataset:\n",
      "\n"
     ]
    },
    {
     "data": {
      "text/html": [
       "<div>\n",
       "<style scoped>\n",
       "    .dataframe tbody tr th:only-of-type {\n",
       "        vertical-align: middle;\n",
       "    }\n",
       "\n",
       "    .dataframe tbody tr th {\n",
       "        vertical-align: top;\n",
       "    }\n",
       "\n",
       "    .dataframe thead th {\n",
       "        text-align: right;\n",
       "    }\n",
       "</style>\n",
       "<table border=\"1\" class=\"dataframe\">\n",
       "  <thead>\n",
       "    <tr style=\"text-align: right;\">\n",
       "      <th></th>\n",
       "      <th>geom</th>\n",
       "      <th>nombre</th>\n",
       "      <th>empresa</th>\n",
       "      <th>tipo_yacim</th>\n",
       "      <th>estado</th>\n",
       "      <th>mineral_pr</th>\n",
       "      <th>geojson</th>\n",
       "    </tr>\n",
       "  </thead>\n",
       "  <tbody>\n",
       "    <tr>\n",
       "      <th>0</th>\n",
       "      <td>0104000020E6100000010000000101000000713D0AD7A3...</td>\n",
       "      <td>Cauchari-Olaroz</td>\n",
       "      <td>MINERA EXAR S.A.</td>\n",
       "      <td>NaN</td>\n",
       "      <td>Construcción</td>\n",
       "      <td>Litio</td>\n",
       "      <td>{\"type\":\"MultiPoint\",\"coordinates\":[[-66.76,-2...</td>\n",
       "    </tr>\n",
       "    <tr>\n",
       "      <th>1</th>\n",
       "      <td>0104000020E6100000010000000101000000D7A3703D0A...</td>\n",
       "      <td>Bajo La Alumbrera</td>\n",
       "      <td>MINERA ALUMBRERA LIMITED</td>\n",
       "      <td>NaN</td>\n",
       "      <td>Mantenimiento</td>\n",
       "      <td>Cobre</td>\n",
       "      <td>{\"type\":\"MultiPoint\",\"coordinates\":[[-66.61,-2...</td>\n",
       "    </tr>\n",
       "    <tr>\n",
       "      <th>2</th>\n",
       "      <td>0104000020E6100000010000000101000000448B6CE7FB...</td>\n",
       "      <td>Río Grande</td>\n",
       "      <td>LITHEA INC. SUCURSAL ARGENTINA</td>\n",
       "      <td>NaN</td>\n",
       "      <td>Exploración avanzada</td>\n",
       "      <td>Litio</td>\n",
       "      <td>{\"type\":\"MultiPoint\",\"coordinates\":[[-68.156,-...</td>\n",
       "    </tr>\n",
       "    <tr>\n",
       "      <th>3</th>\n",
       "      <td>0104000020E610000001000000010100000085EB51B81E...</td>\n",
       "      <td>Navidad</td>\n",
       "      <td>MINERA ARGENTA S.A.</td>\n",
       "      <td>NaN</td>\n",
       "      <td>Evaluación económica preliminar</td>\n",
       "      <td>Plata</td>\n",
       "      <td>{\"type\":\"MultiPoint\",\"coordinates\":[[-68.83,-4...</td>\n",
       "    </tr>\n",
       "    <tr>\n",
       "      <th>4</th>\n",
       "      <td>0104000020E61000000100000001010000006666666666...</td>\n",
       "      <td>Fenix</td>\n",
       "      <td>MINERA DEL ALTIPLANO S.A.</td>\n",
       "      <td>NaN</td>\n",
       "      <td>Producción</td>\n",
       "      <td>Litio</td>\n",
       "      <td>{\"type\":\"MultiPoint\",\"coordinates\":[[-67.1,-25...</td>\n",
       "    </tr>\n",
       "  </tbody>\n",
       "</table>\n",
       "</div>"
      ],
      "text/plain": [
       "                                                geom             nombre  \\\n",
       "0  0104000020E6100000010000000101000000713D0AD7A3...    Cauchari-Olaroz   \n",
       "1  0104000020E6100000010000000101000000D7A3703D0A...  Bajo La Alumbrera   \n",
       "2  0104000020E6100000010000000101000000448B6CE7FB...         Río Grande   \n",
       "3  0104000020E610000001000000010100000085EB51B81E...            Navidad   \n",
       "4  0104000020E61000000100000001010000006666666666...              Fenix   \n",
       "\n",
       "                          empresa  tipo_yacim  \\\n",
       "0                MINERA EXAR S.A.         NaN   \n",
       "1        MINERA ALUMBRERA LIMITED         NaN   \n",
       "2  LITHEA INC. SUCURSAL ARGENTINA         NaN   \n",
       "3             MINERA ARGENTA S.A.         NaN   \n",
       "4       MINERA DEL ALTIPLANO S.A.         NaN   \n",
       "\n",
       "                            estado mineral_pr  \\\n",
       "0                     Construcción      Litio   \n",
       "1                    Mantenimiento      Cobre   \n",
       "2             Exploración avanzada      Litio   \n",
       "3  Evaluación económica preliminar      Plata   \n",
       "4                       Producción      Litio   \n",
       "\n",
       "                                             geojson  \n",
       "0  {\"type\":\"MultiPoint\",\"coordinates\":[[-66.76,-2...  \n",
       "1  {\"type\":\"MultiPoint\",\"coordinates\":[[-66.61,-2...  \n",
       "2  {\"type\":\"MultiPoint\",\"coordinates\":[[-68.156,-...  \n",
       "3  {\"type\":\"MultiPoint\",\"coordinates\":[[-68.83,-4...  \n",
       "4  {\"type\":\"MultiPoint\",\"coordinates\":[[-67.1,-25...  "
      ]
     },
     "execution_count": 1,
     "metadata": {},
     "output_type": "execute_result"
    }
   ],
   "source": [
    "# Analyzing the mineral projects in Argentina\n",
    "\n",
    "# import the needed libraries\n",
    "import json\n",
    "\n",
    "import geopandas as gpd\n",
    "import pandas as pd\n",
    "\n",
    "# Read the data into a pandas.DataFrame\n",
    "dataset_url = \"http://datos.energia.gob.ar/dataset/05ceffb0-98f3-462b-98f9-96d655f76cef/resource/0c8317ac-eacb-4826-b7e7-8f0a15a62ac1/download/proyectos-mineros-ubicacin-aproximada-.csv\"\n",
    "# dataset_url_shp = \"http://datos.energia.gob.ar/dataset/05ceffb0-98f3-462b-98f9-96d655f76cef/resource/14ae10ff-8750-4019-b837-ba34778f8d23/download/proyectos-mineros-ubicacin-aproximada-.zip\"\n",
    "\n",
    "df_mining_projects = pd.read_csv(dataset_url)\n",
    "# gdf_mining_projects = gpd.read_file(dataset_url_shp)\n",
    "\n",
    "print(f\"There are {df_mining_projects.shape[0]} mining projects in Argentina\")\n",
    "\n",
    "print(\"The original dataset:\")\n",
    "print()\n",
    "df_mining_projects.head()"
   ]
  },
  {
   "cell_type": "markdown",
   "metadata": {},
   "source": [
    "Before applying some statistic to the dataset, we can extract the location (longitude, latitude)\n",
    "\n",
    "Then we can construct a GeoDataFrame and add some information related with the province"
   ]
  },
  {
   "cell_type": "code",
   "execution_count": null,
   "metadata": {},
   "outputs": [],
   "source": [
    "#Extract the coordinates of each mining project in Argentina\n",
    "\n",
    "# First, apply json.loads function to convert the JSON string in the geojson field into a dictionary\n",
    "df_mining_projects[\"geojson\"] = df_mining_projects[\"geojson\"].apply(json.loads)\n",
    "\n",
    "# Second, create a new column for containing the geometry\n",
    "# Apply an anonimous function (lambda) to the geojson column to extract the coordinates\n",
    "df_mining_projects[\"lon\"] = df_mining_projects[\"geojson\"].apply(lambda dic: dic[\"coordinates\"][0][0])\n",
    "df_mining_projects[\"lat\"] = df_mining_projects[\"geojson\"].apply(lambda dic: dic[\"coordinates\"][0][1])\n",
    "\n",
    "df_mining_projects.drop(columns=[\"geojson\"], inplace=True)\n",
    "\n",
    "df_mining_projects.head()"
   ]
  },
  {
   "cell_type": "code",
   "execution_count": null,
   "metadata": {},
   "outputs": [],
   "source": [
    "# Construct a geopandas.GeoDataFrame\n",
    "\n",
    "gdf_mining_projects = gpd.GeoDataFrame(df_mining_projects, geometry=gpd.points_from_xy(df_mining_projects[\"lon\"], df_mining_projects[\"lat\"]), crs=4326)\n",
    "\n",
    "gdf_mining_projects.head()"
   ]
  },
  {
   "cell_type": "code",
   "execution_count": null,
   "metadata": {},
   "outputs": [],
   "source": [
    "# Let's add information corresponding to the province\n",
    "\n",
    "gdf_province_arg = gpd.read_file(\"files/provincia.json\", usecols=[\"nam\", \"geometry\"])\n",
    "\n",
    "gdf_province_arg.head()"
   ]
  },
  {
   "cell_type": "code",
   "execution_count": null,
   "metadata": {},
   "outputs": [],
   "source": [
    "gdf_mining_projects = gdf_mining_projects.sjoin(gdf_province_arg, how=\"left\")\n",
    "\n",
    "gdf_mining_projects.head()"
   ]
  }
 ],
 "metadata": {
  "kernelspec": {
   "display_name": "base",
   "language": "python",
   "name": "python3"
  },
  "language_info": {
   "codemirror_mode": {
    "name": "ipython",
    "version": 3
   },
   "file_extension": ".py",
   "mimetype": "text/x-python",
   "name": "python",
   "nbconvert_exporter": "python",
   "pygments_lexer": "ipython3",
   "version": "3.11.5"
  }
 },
 "nbformat": 4,
 "nbformat_minor": 2
}
